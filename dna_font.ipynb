{
 "cells": [
  {
   "cell_type": "code",
   "execution_count": 134,
   "id": "aad6d256",
   "metadata": {},
   "outputs": [],
   "source": [
    "fourXYZ = 'GGACTGGCCCTTAAGTTAGGCATCAGTGCCGACGCCGCTTATAAACTTGCTAAAGCAGCCTACTATTCAGGAACTACCGTTGAAGAAGCCTACAAATTGGCTCTTAAGTTGGGAATATCCGCTGATGCGGCTTATAAGCTTGCGGAAGCAGCCTACTATAGTGGAACCACTGTGGAAGAGGCCTATAAACTTGCATTAAAACTGGGGATCTCCGCTGATGCTGCATACAAATTAGCAAAAGCGGCGTACTACTCGGGCACTACCGTTGAAGAAGCATATAAGTTAGCACTGAAACTCGGGATCAGCGCGGACGCGGCTTACAAACTTGCAAAGGCGGCCTACTACTCGGGAACGACAGTGGAAGAGGCATATAAGCTTGCACTTAAACTGGGCATTAGTGCCGACGCAGCGTACAAGTTAGCCAAAGCCGCATATTATTCAGGTACGACTGTTGAAGAGGCATACAAATTAGCACTGAAGCTCGGCATATCCGCGGACGCCGCGTATAAACTGGCTAAAGCTGCTTACTATAGCGGCACGACAGTAGAGGAAGCTTACAAATTGGCCCTCAAGTTAGGTATCTCGGCGGATGCCGCGTATAAACTTGCAAAAGCGGCGTATTACTCAGGCACAACCGTTGAGGAAGCTTATAAATTGGCATTGAAATTAGGCATAAGTGCCGACGCTGCTTACAAACTGGCCAAGGCCGCGTACTACTCGGGAACAACGGTCGAAGAGGCATACAAGCTGGCATTAAAGTTAGGCATTAGCGCGGATGCTGCTTATAAATTGGCCAAAGCAGCATACTATTCTGGGACAACTGTCGAGGAAGCGTACAAGCTGGCACTGAAGTTGGGC'\n",
    "eightE2Q = 'ATGAGCGAAGAACGCGTGGAAGAAGAACTGCGCCGCCTGGTGGAAGAAGAAGCGGAAGCGCGCGGCATTAGCCGCCGCGAAACCCTGGAACGCCTGAGCCTGCTGCTGTTTAGCATGCAGCTGGAAAAACTGGTGAAAGAAGAAGCGGAAGCGCGCGGCGTGAGCGTGGAAACCATTCGCGAAGAACTGGAACGCGAAGTGGATGAACGCCTGCGCGAACTGCGCGAAGAAGGCATTAGCCGCCGCGAAACCCTGGAACGCCTGAGCCTGCTGCTGTTTAGCATGCAGCTGGAAAAACTGGTGAAAGAAGAAGCGGAAGCGCGCGGCGTGAGCGTGGAAACCATTCGCGAAGAACTGGAACGCGAAGTGGATGAACGCCTGCGCGAACTGCGCGAAGAAGGCATTAGCCGCCGCGAAACCCTGGAACGCCTGAGCCTGCTGCTGTTTAGCATGCAGCTGGAAAAACTGGTGAAAGAAGAAGCGGAAGCGCGCGGCGTGAGCGTGGAAGAAATTCGCGAAGAACTGCGCCGCGAAGTGGATGAACGCCTGCGCGAACTGCGCGAAGAAGGCATTAGCCGCCGCGAAACCCTGGAACGCCTGAGCCTGCTGCTGTTTAGCATGCAGCTGGAAAAACTGGTGAAAGAAGAAGCGGAAGCGCGCGGCGTGAGCGTGGAAGAAATTCGCGAAGAACTGCGCCGCGAAGTGGATGAACGCCTGCGCGAACTGCGCGAAGAAGGCATTAGCCGCCGCGAAACCCTGGAACGCCTGAGCCTGCTGCTGTTTAGCATGCAGCTGGAAAAACTGGTGAAAGAAGAAGCGGAAGCGCGCGGCGTGAGCGTGGAAGAAATTCGCGAAGAACTGCGCCGCGAAGTGGAAGAACGCCTGCGCGAACTGCGCGAAGAAGGCGAA'\n",
    "sevenSQ3 = 'GGCAGCAGCATGGGTTCAGACGAGCAACGACGTGAGCTTGAGGAGAAGATAAAGTTCAAGCTCGCTGAGTTGGCTTCAAAGTCAGAGGAAGAGCGGAAGGAGATCAAGCTCAGAGTTATAGCCTACGTTTTAGTTCAATTAGAGGACTTACAAAAGTTGTTATCTGACGAGCAACGTCGGGAGTTAGAGGAGAAGATAAAGTTCAAGCTTGCTGAGCTCGCCTCAAAGTCTGAGGAAGAGCGTAAGGAAATCAAGCTCAGAGTAATAGCATACGTTTTAGTTCAACTTGAGGACTTACAAAAGCTTTTATCTGACGAGCAACGTCGTGAGTTGGAAGAGAAGATAAAGTTCAAGTTAGCAGAGCTTGCTAGTAAGTCAGAAGAGGAGAGAAAGGAGATCAAGTTACGGGTTATAGCATACGTCTTGGTCCAACTTGAGGACTTACAAAAGTTACTCTCC'"
   ]
  },
  {
   "cell_type": "code",
   "execution_count": null,
   "id": "bf032f78",
   "metadata": {},
   "outputs": [],
   "source": [
    "# from PIL import Image, ImageDraw\n",
    "# import os\n",
    "\n",
    "# BASE_IMAGES = {\n",
    "#     \"A\": {\"upper\": 'DNA_FONT/adenine_font_upper.png', \"lower\": 'DNA_FONT/adenine_font_lower.png'},\n",
    "#     \"T\": {\"upper\": 'DNA_FONT/thymine_font_upper.png', \"lower\": 'DNA_FONT/thymine_font_lower.png'},\n",
    "#     \"C\": {\"upper\": 'DNA_FONT/cytosine_font_upper.png', \"lower\": 'DNA_FONT/cytosine_font_lower.png'},\n",
    "#     \"G\": {\"upper\": 'DNA_FONT/guanine_font_upper.png', \"lower\": 'DNA_FONT/guanine_font_lower.png'},\n",
    "# }\n",
    "\n",
    "# # Layout constants (easy to tweak)\n",
    "# HORIZONTAL_STEP = 160   # how far to move over for each base\n",
    "# # HORIZONTAL_STEP_LOWER_PYRIMIDINES = 200   # how far to move over for each base\n",
    "# VERTICAL_SHIFT = 220    # vertical zig-zag offset\n",
    "# OVERLAP_X_LOWER_PURINES = -38        # horizontal overlap adjustment\n",
    "# OVERLAP_X_HIGHER_PURINES = -22      # horizontal overlap adjustment\n",
    "# OVERLAP_X_LOWER_PYRIMIDINES = -60        # horizontal overlap adjustment\n",
    "# OVERLAP_X_HIGHER_PYRIMIDINES = -22  \n",
    "# ADDITIONAL_KICK_LOWER_PYRIMIDINES = 21\n",
    "# MARGIN = 50            # padding around the final image\n",
    "\n",
    "# # --- MAIN FUNCTION ---\n",
    "# def render_dna_sequence(seq, output_file=\"dna_font.png\"):\n",
    "#     images = []\n",
    "\n",
    "#     # Build alternating zig-zag: upper, lower, upper...\n",
    "#     for i, base in enumerate(seq):\n",
    "#         pos = \"upper\" if i % 2 == 0 else \"lower\"\n",
    "#         img_path = BASE_IMAGES[base][pos]\n",
    "#         img = Image.open(img_path).convert(\"RGBA\")\n",
    "#         images.append((img, pos, base))\n",
    "\n",
    "#     # Compute canvas size\n",
    "#     width = HORIZONTAL_STEP * (len(seq) - 1) + images[0][0].width + MARGIN * 2\n",
    "#     height = max(img[0].height for img in images) + VERTICAL_SHIFT + MARGIN * 2\n",
    "#     canvas = Image.new(\"RGBA\", (width, height), (255, 255, 255, 0))\n",
    "\n",
    "#     # Place images one by one\n",
    "#     prev_x = MARGIN\n",
    "#     for i, (img, pos, base) in enumerate(images):\n",
    "#         overlap = 0 \n",
    "#         additional_kick = 0\n",
    "#         if base in ['A', 'G']:\n",
    "#             if pos == \"upper\":\n",
    "#                 overlap = OVERLAP_X_HIGHER_PURINES\n",
    "#             else:\n",
    "#                 overlap = OVERLAP_X_LOWER_PURINES\n",
    "#         elif base in ['C', 'T']:\n",
    "#             if pos == \"upper\":\n",
    "#                 overlap = OVERLAP_X_HIGHER_PYRIMIDINES\n",
    "#             else:\n",
    "#                 overlap = OVERLAP_X_LOWER_PYRIMIDINES\n",
    "#                 additional_kick = ADDITIONAL_KICK_LOWER_PYRIMIDINES\n",
    "#         prev_x = prev_x + additional_kick\n",
    "#         x = prev_x \n",
    "#         prev_x = prev_x + HORIZONTAL_STEP + overlap \n",
    "#         y = MARGIN if pos == \"upper\" else MARGIN + VERTICAL_SHIFT\n",
    "#         canvas.alpha_composite(img, (x, y))\n",
    "\n",
    "#     # Save result\n",
    "#     canvas.save(output_file)\n",
    "#     print(f\"Saved: {output_file}\")\n"
   ]
  },
  {
   "cell_type": "code",
   "execution_count": 139,
   "id": "669d93b1",
   "metadata": {},
   "outputs": [
    {
     "name": "stdout",
     "output_type": "stream",
     "text": [
      "Saved: test_dna_font.png\n"
     ]
    }
   ],
   "source": [
    "test = 'ATGCGTACGTAGCTAGCTAGCTAGCTAGCTAGCTAGC'\n",
    "render_dna_sequence(test, \"test_dna_font.png\")"
   ]
  },
  {
   "cell_type": "code",
   "execution_count": 136,
   "id": "6c7cb2bb",
   "metadata": {},
   "outputs": [
    {
     "name": "stdout",
     "output_type": "stream",
     "text": [
      "Saved: 4XYZ_dna_font.png\n"
     ]
    }
   ],
   "source": [
    "render_dna_sequence(fourXYZ, \"4YXZ_dna_font.png\")"
   ]
  },
  {
   "cell_type": "code",
   "execution_count": 137,
   "id": "01bfca88",
   "metadata": {},
   "outputs": [
    {
     "name": "stdout",
     "output_type": "stream",
     "text": [
      "Saved: 8E2Q_dna_font.png\n"
     ]
    }
   ],
   "source": [
    "render_dna_sequence(eightE2Q, \"8ETQ_dna_font.png\")"
   ]
  },
  {
   "cell_type": "code",
   "execution_count": 138,
   "id": "f437fb0c",
   "metadata": {},
   "outputs": [
    {
     "name": "stdout",
     "output_type": "stream",
     "text": [
      "Saved: 7SQ3_dna_font.png\n"
     ]
    }
   ],
   "source": [
    "render_dna_sequence(sevenSQ3, \"7SQ3_dna_font.png\")"
   ]
  }
 ],
 "metadata": {
  "kernelspec": {
   "display_name": "radial_faces_env",
   "language": "python",
   "name": "python3"
  },
  "language_info": {
   "codemirror_mode": {
    "name": "ipython",
    "version": 3
   },
   "file_extension": ".py",
   "mimetype": "text/x-python",
   "name": "python",
   "nbconvert_exporter": "python",
   "pygments_lexer": "ipython3",
   "version": "3.8.20"
  }
 },
 "nbformat": 4,
 "nbformat_minor": 5
}
