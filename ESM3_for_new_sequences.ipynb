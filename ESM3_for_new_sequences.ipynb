{
 "cells": [
  {
   "cell_type": "markdown",
   "id": "8f3b03f5",
   "metadata": {},
   "source": [
    "https://www.rcsb.org/structure/8ETQ ← trefoil knot, pentafoil protein\n",
    "\n",
    "https://www.rcsb.org/structure/7SQ3 ← another pentalute lab protein\n",
    "\n",
    "https://www.rcsb.org/structure/6MSP ← from FoldIT"
   ]
  },
  {
   "cell_type": "code",
   "execution_count": null,
   "id": "eef6be2f",
   "metadata": {},
   "outputs": [],
   "source": [
    "base_seq_8ETQ = 'MASSHHHHHHSSGLVPRGSSMGISRRETLERLSLLLFSMQLEKLVKEEAEARGVSVETIREELEREVDERLREMEEQGISRRETLERLSLLLFSMQLEKLVKEEAEARGVSVETIREELEREVDERLREMEEQGISRRETLERLSLLLFSMQLEKLVKEEAEARGVSVETIREELEREVDERLREMEEQGISRRETLERLSLLLFSMQLEKLVKEEAEARGVSVETIREELEREVDERLREMEEQGISRRETLERLSLLLFSMQLEKLVKEEAEARGVSVETIREELEREVDERLREMEEQGW'\n",
    "base_seq_7SQ3 = 'GSSMGSDEQRRELEEKIKFKLAELASKSEEERKEIKLRVIAYVLVQLEDLQKNLSDEQRRELEEKIKFKLAELASKSEEERKEIKLRVIAYVLVQLEDLQKNLSDEQRRELEEKIKFKLAELASKSEEERKEIKLRVIAYVLVQLEDLQKNLS'\n",
    "base_seq_6MSP = 'MGHHHHHHENLYFQSHMTDELLERLRQLFEELHERGTEIVVEVHINGERDEIRVRNISKEELKKLLERIREKIEREGSSEVEVNVHSGGQTWTFNEK'"
   ]
  },
  {
   "cell_type": "code",
   "execution_count": null,
   "id": "d9ccebbf",
   "metadata": {},
   "outputs": [],
   "source": [
    "import random \n",
    "\n",
    "def mask_sequence(seq, chunk_size=10, num_to_mask=3):\n",
    "    masked_seq = ''\n",
    "    for i in range(0, len(seq), chunk_size):\n",
    "        chunk = list(seq[i:i+chunk_size])\n",
    "        if len(chunk) < num_to_mask:\n",
    "            # If chunk is smaller than the number to mask, mask all\n",
    "            mask_indices = range(len(chunk))\n",
    "        else:\n",
    "            mask_indices = random.sample(range(len(chunk)), num_to_mask)\n",
    "        for idx in mask_indices:\n",
    "            chunk[idx] = '_'\n",
    "        masked_seq += ''.join(chunk)\n",
    "    return masked_seq"
   ]
  }
 ],
 "metadata": {
  "kernelspec": {
   "display_name": "radial_faces_env",
   "language": "python",
   "name": "python3"
  },
  "language_info": {
   "name": "python",
   "version": "3.8.20"
  }
 },
 "nbformat": 4,
 "nbformat_minor": 5
}
