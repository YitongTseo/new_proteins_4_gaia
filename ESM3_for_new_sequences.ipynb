{
 "cells": [
  {
   "cell_type": "markdown",
   "id": "8f3b03f5",
   "metadata": {},
   "source": [
    "https://www.rcsb.org/structure/8ETQ ← trefoil knot, pentafoil protein\n",
    "\n",
    "https://www.rcsb.org/structure/7SQ3 ← another pentalute lab protein\n",
    "\n",
    "https://www.rcsb.org/structure/4YXZ <- yet another pentalute lab protein \n",
    "\n",
    "https://www.rcsb.org/structure/6MSP ← from FoldIT"
   ]
  },
  {
   "cell_type": "code",
   "execution_count": 39,
   "id": "eef6be2f",
   "metadata": {},
   "outputs": [],
   "source": [
    "base_seq_8ETQ = 'MASSHHHHHHSSGLVPRGSSMGISRRETLERLSLLLFSMQLEKLVKEEAEARGVSVETIREELEREVDERLREMEEQGISRRETLERLSLLLFSMQLEKLVKEEAEARGVSVETIREELEREVDERLREMEEQGISRRETLERLSLLLFSMQLEKLVKEEAEARGVSVETIREELEREVDERLREMEEQGISRRETLERLSLLLFSMQLEKLVKEEAEARGVSVETIREELEREVDERLREMEEQGISRRETLERLSLLLFSMQLEKLVKEEAEARGVSVETIREELEREVDERLREMEEQGW'\n",
    "base_seq_7SQ3 = 'GSSMGSDEQRRELEEKIKFKLAELASKSEEERKEIKLRVIAYVLVQLEDLQKNLSDEQRRELEEKIKFKLAELASKSEEERKEIKLRVIAYVLVQLEDLQKNLSDEQRRELEEKIKFKLAELASKSEEERKEIKLRVIAYVLVQLEDLQKNLS'\n",
    "# base_seq_6MSP = 'MGHHHHHHENLYFQSHMTDELLERLRQLFEELHERGTEIVVEVHINGERDEIRVRNISKEELKKLLERIREKIEREGSSEVEVNVHSGGQTWTFNEK'\n",
    "base_seq_4YXZ = 'GSSMASGISVEELLKLAKAAYYSGTTVEEAYKLALKLGISVEELLKLAEAAYYSGTTVEEAYKLALKLGISVEELLKLAKAAYYSGTTVEEAYKLALKLGISVEELLKLAKAAYYSGTTVEEAYKLALKLGISVEELLKLAEAAYYSGTTVEEAYKLALKLGISVEELLKLAKAAYYSGTTVEEAYKLALKLGISVEELLKLAKAAYYSGTTVEEAYKLALKLGISVEELLKLAEAAYYSGTTVEEAYKLALKLGISVEELLKLAKAAYYSGTTVEEAYKLALKLG'"
   ]
  },
  {
   "cell_type": "code",
   "execution_count": null,
   "id": "d9ccebbf",
   "metadata": {},
   "outputs": [],
   "source": [
    "import random \n",
    "\n",
    "def mask_sequence(seq, chunk_size=30, num_to_mask=20):\n",
    "    masked_seq = ''\n",
    "    for i in range(0, len(seq), chunk_size):\n",
    "        chunk = list(seq[i:i+chunk_size])\n",
    "        n = len(chunk)\n",
    "        \n",
    "        if n <= num_to_mask:\n",
    "            # If the chunk is smaller than or equal to num_to_mask, mask the whole chunk\n",
    "            start_idx = 0\n",
    "        else:\n",
    "            # Pick a random starting index so the run fits in the chunk\n",
    "            start_idx = random.randint(0, n - num_to_mask)\n",
    "        \n",
    "        for idx in range(start_idx, start_idx + min(num_to_mask, n)):\n",
    "            chunk[idx] = '_'\n",
    "        \n",
    "        masked_seq += ''.join(chunk)\n",
    "    \n",
    "    return masked_seq\n",
    "\n",
    "# def mask_sequence(seq, chunk_size=30, num_to_mask=7):\n",
    "#     masked_seq = ''\n",
    "#     for i in range(0, len(seq), chunk_size):\n",
    "#         chunk = list(seq[i:i+chunk_size])\n",
    "#         if len(chunk) < num_to_mask:\n",
    "#             # If chunk is smaller than the number to mask, mask all\n",
    "#             mask_indices = range(len(chunk))\n",
    "#         else:\n",
    "#             mask_indices = random.sample(range(len(chunk)), num_to_mask)\n",
    "#         for idx in mask_indices:\n",
    "#             chunk[idx] = '_'\n",
    "#         masked_seq += ''.join(chunk)\n",
    "#     return masked_seq"
   ]
  },
  {
   "cell_type": "code",
   "execution_count": 46,
   "id": "1d27952b",
   "metadata": {},
   "outputs": [
    {
     "name": "stdout",
     "output_type": "stream",
     "text": [
      "MASSHHHHHHS_______________ETLERLSLLLFSM_______________SVETIRE_______________QGISRRETLERLSLLLFSMQLEK_______________IREELEREVDERLREMEEQ_______________FSMQLEKLVKEEAEAR_______________DE_______________LERLSLLLFSMQLEKLVKEEAEAR_______________DERLREMEEQGISRRETLER_______________EEAEA_______________VDERLREMEE___\n",
      "MASSHHHHHHSSGLVPRGSSMGISRRETLERLSLLLFSMQLEKLVKEEAEARGVSVETIREELEREVDERLREMEEQGISRRETLERLSLLLFSMQLEKLVKEEAEARGVSVETIREELEREVDERLREMEEQGISRRETLERLSLLLFSMQLEKLVKEEAEARGVSVETIREELEREVDERLREMEEQGISRRETLERLSLLLFSMQLEKLVKEEAEARGVSVETIREELEREVDERLREMEEQGISRRETLERLSLLLFSMQLEKLVKEEAEARGVSVETIREELEREVDERLREMEEQGW\n",
      "MSEERVEEELRRLVEEEAEARGISRRETLERLSLLLFSMQLEKLVKEEAEARGVSVETIREELEREVDERLRELREEGISRRETLERLSLLLFSMQLEKLVKEEAEARGVSVETIREELEREVDERLRELREEGISRRETLERLSLLLFSMQLEKLVKEEAEARGVSVEEIREELRREVDERLRELREEGISRRETLERLSLLLFSMQLEKLVKEEAEARGVSVEEIREELRREVDERLRELREEGISRRETLERLSLLLFSMQLEKLVKEEAEARGVSVEEIREELRREVEERLRELREEGE\n"
     ]
    }
   ],
   "source": [
    "masked_seq = mask_sequence(base_seq_8ETQ)\n",
    "# esm3_seq_8ETQ = 'MASSHHHHHHMGEVEREAEEQGISRRETLERLSLLLFSMQLEKLVKEEAEARGVSVETIREELEREVGEVEREAEEQGISRRETLERLSLLLFSMQLEKLVKEEAEARGVSVETIREELEREVDERLREMEEQGISRGETLERLSLLLFSMQLEKLVKEEAEARGVSVETIREELEREVDERLREMEEQGISRGETLERLSLLLFSMQLEKLVKEEAEARGVSVETIREELEREVDERLREMEEQGISRGETLERLSLLLFSMQLEKLVKEEAEARGVSVETIREELEREVDERLREMEEQGI'\n",
    "esm3_seq_8ETQ_better = 'MSEERVEEELRRLVEEEAEARGISRRETLERLSLLLFSMQLEKLVKEEAEARGVSVETIREELEREVDERLRELREEGISRRETLERLSLLLFSMQLEKLVKEEAEARGVSVETIREELEREVDERLRELREEGISRRETLERLSLLLFSMQLEKLVKEEAEARGVSVEEIREELRREVDERLRELREEGISRRETLERLSLLLFSMQLEKLVKEEAEARGVSVEEIREELRREVDERLRELREEGISRRETLERLSLLLFSMQLEKLVKEEAEARGVSVEEIREELRREVEERLRELREEGE'\n",
    "print(masked_seq)\n",
    "print(base_seq_8ETQ)\n",
    "# print(esm3_seq_8ETQ)\n",
    "print(esm3_seq_8ETQ_better)"
   ]
  },
  {
   "cell_type": "code",
   "execution_count": 48,
   "id": "71752ccb",
   "metadata": {},
   "outputs": [
    {
     "name": "stdout",
     "output_type": "stream",
     "text": [
      "GSSMGSD_______________ELASKSEEERKEIKLRVI_______________DEQRRELE_______________EERKEIKLRVIAYVLVQL_______________EEKIKFKLAELASKSE_______________VQLEDLQK___\n",
      "GSSMGSDEQRRELEEKIKFKLAELASKSEEERKEIKLRVIAYVLVQLEDLQKNLSDEQRRELEEKIKFKLAELASKSEEERKEIKLRVIAYVLVQLEDLQKNLSDEQRRELEEKIKFKLAELASKSEEERKEIKLRVIAYVLVQLEDLQKNLS\n",
      "GSSMGSDEQRRELKRRVKEKLAELASKSEEERKEIKLRVIAYVLVQLEDLQKNLSDEQRRELERRVKEKLAELASKSEEERKEIKLRVIAYVLVQLEDLQKNLSDEQRRELERRVKEKLAELASKSEEERKEIKLRVIAYVLVQLEDLQKNLS\n"
     ]
    }
   ],
   "source": [
    "\n",
    "print(masked_seq)\n",
    "print(base_seq_7SQ3)\n",
    "masked_seq = mask_sequence(base_seq_7SQ3)\n",
    "esm3_seq_7sq3 = 'GSSMGSDEQRRELKRRVKEKLAELASKSEEERKEIKLRVIAYVLVQLEDLQKNLSDEQRRELERRVKEKLAELASKSEEERKEIKLRVIAYVLVQLEDLQKNLSDEQRRELERRVKEKLAELASKSEEERKEIKLRVIAYVLVQLEDLQKNLS'\n",
    "print(esm3_seq_7sq3)"
   ]
  },
  {
   "cell_type": "code",
   "execution_count": 51,
   "id": "ac23c1b4",
   "metadata": {},
   "outputs": [
    {
     "name": "stdout",
     "output_type": "stream",
     "text": [
      "GSSMASGISVEELLKLAKAAYYSGTTVEEAYKLALKLGISVEELLKLAEAAYYSGTTVEEAYKLALKLGISVEELLKLAKAAYYSGTTVEEAYKLALKLGISVEELLKLAKAAYYSGTTVEEAYKLALKLGISVEELLKLAEAAYYSGTTVEEAYKLALKLGISVEELLKLAKAAYYSGTTVEEAYKLALKLGISVEELLKLAKAAYYSGTTVEEAYKLALKLGISVEELLKLAEAAYYSGTTVEEAYKLALKLGISVEELLKLAKAAYYSGTTVEEAYKLALKLG\n",
      "GSSMA_________________________YKLAL_________________________A_________________________TTVEEAYK_________________________VE_________________________SGTTVE_________________________SGTTVEEA_________________________TTV_________________________YSG_________________________AAYY________________\n",
      "\n"
     ]
    }
   ],
   "source": [
    "print(base_seq_4YXZ)\n",
    "masked_seq = mask_sequence(base_seq_4YXZ)\n",
    "print(masked_seq)\n",
    "print()"
   ]
  },
  {
   "cell_type": "code",
   "execution_count": null,
   "id": "0eca586f",
   "metadata": {},
   "outputs": [
    {
     "name": "stdout",
     "output_type": "stream",
     "text": [
      "MGHHHHHHENLYFQSHMTDELLERLRQLFEELHERGTEIVVEVHINGERDEIRVRNISKEELKKLLERIREKIEREGSSEVEVNVHSGGQTWTFNEK\n",
      "M_HHH_H__NLYF_SHMTDELLER_RQL_E_LHERGTEIVVEVH_NG_RD_I_V__ISKEEL_KL_ERIREKI_R_G_SEV_VNVHS_GQ_______\n",
      "MGHHHHHHENLYFQSHSTDEILERLRQLFEELHERGTEAVVEVHVNGERDEIRVRRNISKEELKKILEEIREKIERSGSSEVEVNVHEGGQTIEIHVK\n"
     ]
    }
   ],
   "source": [
    "# print(base_seq_6MSP)\n",
    "# masked_seq = mask_sequence(base_seq_6MSP)\n",
    "# print(masked_seq)\n",
    "# ESM_seq = 'MGHHHHHHENLYFQSHSTDEILERLRQLFEELHERGTEAVVEVHVNGERDEIRVRRNISKEELKKILEEIREKIERSGSSEVEVNVHEGGQTIEIHVK'\n",
    "# print(ESM_seq)"
   ]
  }
 ],
 "metadata": {
  "kernelspec": {
   "display_name": "radial_faces_env",
   "language": "python",
   "name": "python3"
  },
  "language_info": {
   "codemirror_mode": {
    "name": "ipython",
    "version": 3
   },
   "file_extension": ".py",
   "mimetype": "text/x-python",
   "name": "python",
   "nbconvert_exporter": "python",
   "pygments_lexer": "ipython3",
   "version": "3.8.20"
  }
 },
 "nbformat": 4,
 "nbformat_minor": 5
}
