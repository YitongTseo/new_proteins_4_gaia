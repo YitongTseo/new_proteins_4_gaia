{
 "cells": [
  {
   "cell_type": "markdown",
   "id": "8f3b03f5",
   "metadata": {},
   "source": [
    "https://www.rcsb.org/structure/8ETQ ← trefoil knot, pentafoil protein\n",
    "\n",
    "https://www.rcsb.org/structure/7SQ3 ← another pentalute lab protein\n",
    "\n",
    "https://www.rcsb.org/structure/4YXZ <- yet another pentalute lab protein \n",
    "\n",
    "https://www.rcsb.org/structure/6MSP ← from FoldIT"
   ]
  },
  {
   "cell_type": "code",
   "execution_count": 126,
   "id": "eef6be2f",
   "metadata": {},
   "outputs": [],
   "source": [
    "base_seq_8ETQ = 'MASSHHHHHHSSGLVPRGSSMGISRRETLERLSLLLFSMQLEKLVKEEAEARGVSVETIREELEREVDERLREMEEQGISRRETLERLSLLLFSMQLEKLVKEEAEARGVSVETIREELEREVDERLREMEEQGISRRETLERLSLLLFSMQLEKLVKEEAEARGVSVETIREELEREVDERLREMEEQGISRRETLERLSLLLFSMQLEKLVKEEAEARGVSVETIREELEREVDERLREMEEQGISRRETLERLSLLLFSMQLEKLVKEEAEARGVSVETIREELEREVDERLREMEEQGW'\n",
    "base_seq_7SQ3 = 'GSSMGSDEQRRELEEKIKFKLAELASKSEEERKEIKLRVIAYVLVQLEDLQKNLSDEQRRELEEKIKFKLAELASKSEEERKEIKLRVIAYVLVQLEDLQKNLSDEQRRELEEKIKFKLAELASKSEEERKEIKLRVIAYVLVQLEDLQKNLS'\n",
    "# base_seq_6MSP = 'MGHHHHHHENLYFQSHMTDELLERLRQLFEELHERGTEIVVEVHINGERDEIRVRNISKEELKKLLERIREKIEREGSSEVEVNVHSGGQTWTFNEK'\n",
    "base_seq_4YXZ = 'GSSMASGISVEELLKLAKAAYYSGTTVEEAYKLALKLGISVEELLKLAEAAYYSGTTVEEAYKLALKLGISVEELLKLAKAAYYSGTTVEEAYKLALKLGISVEELLKLAKAAYYSGTTVEEAYKLALKLGISVEELLKLAEAAYYSGTTVEEAYKLALKLGISVEELLKLAKAAYYSGTTVEEAYKLALKLGISVEELLKLAKAAYYSGTTVEEAYKLALKLGISVEELLKLAEAAYYSGTTVEEAYKLALKLGISVEELLKLAKAAYYSGTTVEEAYKLALKLG'"
   ]
  },
  {
   "cell_type": "code",
   "execution_count": 127,
   "id": "aff96799",
   "metadata": {},
   "outputs": [],
   "source": [
    "esm3_seq_7sq3 = 'GSSMGSDEQRRELEEKIKFKLAELASKSEEERKEIKLRVIAYVLVQLEDLQKLLSDEQRRELEEKIKFKLAELASKSEEERKEIKLRVIAYVLVQLEDLQKLLSDEQRRELEEKIKFKLAELASKSEEERKEIKLRVIAYVLVQLEDLQKLLS'\n",
    "esm_seq_4YXZ = 'GLALKLGISADAAYKLAKAAYYSGTTVEEAYKLALKLGISADAAYKLAEAAYYSGTTVEEAYKLALKLGISADAAYKLAKAAYYSGTTVEEAYKLALKLGISADAAYKLAKAAYYSGTTVEEAYKLALKLGISADAAYKLAKAAYYSGTTVEEAYKLALKLGISADAAYKLAKAAYYSGTTVEEAYKLALKLGISADAAYKLAKAAYYSGTTVEEAYKLALKLGISADAAYKLAKAAYYSGTTVEEAYKLALKLGISADAAYKLAKAAYYSGTTVEEAYKLALKLG'\n",
    "esm3_seq_8ETQ= 'MSEERVEEELRRLVEEEAEARGISRRETLERLSLLLFSMQLEKLVKEEAEARGVSVETIREELEREVDERLRELREEGISRRETLERLSLLLFSMQLEKLVKEEAEARGVSVETIREELEREVDERLRELREEGISRRETLERLSLLLFSMQLEKLVKEEAEARGVSVEEIREELRREVDERLRELREEGISRRETLERLSLLLFSMQLEKLVKEEAEARGVSVEEIREELRREVDERLRELREEGISRRETLERLSLLLFSMQLEKLVKEEAEARGVSVEEIREELRREVEERLRELREEGE'"
   ]
  },
  {
   "cell_type": "code",
   "execution_count": 128,
   "id": "32a88621",
   "metadata": {},
   "outputs": [],
   "source": [
    "def compare_aligned_strings(seq1: str, seq2: str) -> None:\n",
    "    \"\"\"\n",
    "    Compares two aligned strings of equal length to find differences.\n",
    "\n",
    "    This function calculates the number of characters that are different\n",
    "    between two strings and the percentage of similarity and difference.\n",
    "    It's particularly useful for comparing aligned biological sequences.\n",
    "\n",
    "    Args:\n",
    "        seq1 (str): The first string to compare.\n",
    "        seq2 (str): The second string to compare.\n",
    "    \"\"\"\n",
    "    # 1. Input validation: Check if the strings have the same length.\n",
    "    if len(seq1) != len(seq2):\n",
    "        print(\"Error: The two strings must be of the same length for alignment comparison.\", file=sys.stderr)\n",
    "        return\n",
    "\n",
    "    # 2. Convert to uppercase to make the comparison case-insensitive.\n",
    "    seq1 = seq1.upper()\n",
    "    seq2 = seq2.upper()\n",
    "\n",
    "    # 3. Calculate the length of the sequences.\n",
    "    sequence_length = len(seq1)\n",
    "\n",
    "    # 4. Initialize a counter for the number of differences.\n",
    "    differences = 0\n",
    "\n",
    "    # 5. Iterate through the strings and count the differences.\n",
    "    # The zip() function pairs up characters from both strings.\n",
    "    for char1, char2 in zip(seq1, seq2):\n",
    "        if char1 != char2:\n",
    "            differences += 1\n",
    "\n",
    "    # 6. Calculate the number of identical characters.\n",
    "    identities = sequence_length - differences\n",
    "\n",
    "    # 7. Calculate the percentage of similarity and difference.\n",
    "    # We use a float conversion to ensure floating-point division.\n",
    "    if sequence_length > 0:\n",
    "        percent_identity = (identities / sequence_length) * 100\n",
    "        percent_difference = (differences / sequence_length) * 100\n",
    "    else:\n",
    "        # Handle the case of empty strings to avoid division by zero.\n",
    "        percent_identity = 0\n",
    "        percent_difference = 0\n",
    "\n",
    "    # 8. Print the results in a clear, formatted way.\n",
    "    print(f\"Sequence Length: {sequence_length}\")\n",
    "    print(f\"Number of Identical Characters: {identities}\")\n",
    "    print(f\"Number of Differences: {differences}\")\n",
    "    print(f\"Percentage Similarity: {percent_identity:.2f}%\")\n",
    "    print(f\"Percentage Difference: {percent_difference:.2f}%\")\n"
   ]
  },
  {
   "cell_type": "code",
   "execution_count": 129,
   "id": "d9ccebbf",
   "metadata": {},
   "outputs": [],
   "source": [
    "import random \n",
    "\n",
    "def mask_sequence(seq, chunk_size=30, num_to_mask=11):\n",
    "    masked_seq = ''\n",
    "    for i in range(0, len(seq), chunk_size):\n",
    "        chunk = list(seq[i:i+chunk_size])\n",
    "        n = len(chunk)\n",
    "        \n",
    "        if n <= num_to_mask:\n",
    "            # If the chunk is smaller than or equal to num_to_mask, mask the whole chunk\n",
    "            start_idx = 0\n",
    "        else:\n",
    "            # Pick a random starting index so the run fits in the chunk\n",
    "            start_idx = random.randint(0, n - num_to_mask)\n",
    "        \n",
    "        for idx in range(start_idx, start_idx + min(num_to_mask, n)):\n",
    "            chunk[idx] = '_'\n",
    "        \n",
    "        masked_seq += ''.join(chunk)\n",
    "    \n",
    "    return masked_seq\n",
    "\n",
    "# def mask_sequence(seq, chunk_size=30, num_to_mask=7):\n",
    "#     masked_seq = ''\n",
    "#     for i in range(0, len(seq), chunk_size):\n",
    "#         chunk = list(seq[i:i+chunk_size])\n",
    "#         if len(chunk) < num_to_mask:\n",
    "#             # If chunk is smaller than the number to mask, mask all\n",
    "#             mask_indices = range(len(chunk))\n",
    "#         else:\n",
    "#             mask_indices = random.sample(range(len(chunk)), num_to_mask)\n",
    "#         for idx in mask_indices:\n",
    "#             chunk[idx] = '_'\n",
    "#         masked_seq += ''.join(chunk)\n",
    "#     return masked_seq"
   ]
  },
  {
   "cell_type": "code",
   "execution_count": 130,
   "id": "1d27952b",
   "metadata": {},
   "outputs": [
    {
     "name": "stdout",
     "output_type": "stream",
     "text": [
      "MAS____________________SRRETLER____________________RGVSVETIREEL____________________TLERLSLLLFSMQL____________________ELEREVD____________________SLLLFSMQLE____________________LEREVDERLREMEE____________________LEKLVKEEAE____________________LREMEEQGI____________________LVKEEAEA____________________REMEE___\n",
      "MASSHHHHHHSSGLVPRGSSMGISRRETLERLSLLLFSMQLEKLVKEEAEARGVSVETIREELEREVDERLREMEEQGISRRETLERLSLLLFSMQLEKLVKEEAEARGVSVETIREELEREVDERLREMEEQGISRRETLERLSLLLFSMQLEKLVKEEAEARGVSVETIREELEREVDERLREMEEQGISRRETLERLSLLLFSMQLEKLVKEEAEARGVSVETIREELEREVDERLREMEEQGISRRETLERLSLLLFSMQLEKLVKEEAEARGVSVETIREELEREVDERLREMEEQGW\n",
      "MSEERVEEELRRLVEEEAEARGISRRETLERLSLLLFSMQLEKLVKEEAEARGVSVETIREELEREVDERLRELREEGISRRETLERLSLLLFSMQLEKLVKEEAEARGVSVETIREELEREVDERLRELREEGISRRETLERLSLLLFSMQLEKLVKEEAEARGVSVEEIREELRREVDERLRELREEGISRRETLERLSLLLFSMQLEKLVKEEAEARGVSVEEIREELRREVDERLRELREEGISRRETLERLSLLLFSMQLEKLVKEEAEARGVSVEEIREELRREVEERLRELREEGE\n",
      "Sequence Length: 303\n",
      "Number of Identical Characters: 260\n",
      "Number of Differences: 43\n",
      "Percentage Similarity: 85.81%\n",
      "Percentage Difference: 14.19%\n"
     ]
    }
   ],
   "source": [
    "masked_seq = mask_sequence(base_seq_8ETQ, num_to_mask=20)\n",
    "# esm3_seq_8ETQ = 'MASSHHHHHHMGEVEREAEEQGISRRETLERLSLLLFSMQLEKLVKEEAEARGVSVETIREELEREVGEVEREAEEQGISRRETLERLSLLLFSMQLEKLVKEEAEARGVSVETIREELEREVDERLREMEEQGISRGETLERLSLLLFSMQLEKLVKEEAEARGVSVETIREELEREVDERLREMEEQGISRGETLERLSLLLFSMQLEKLVKEEAEARGVSVETIREELEREVDERLREMEEQGISRGETLERLSLLLFSMQLEKLVKEEAEARGVSVETIREELEREVDERLREMEEQGI'\n",
    "print(masked_seq)\n",
    "print(base_seq_8ETQ)\n",
    "print(esm3_seq_8ETQ)\n",
    "compare_aligned_strings(base_seq_8ETQ, esm3_seq_8ETQ)"
   ]
  },
  {
   "cell_type": "code",
   "execution_count": 131,
   "id": "71752ccb",
   "metadata": {},
   "outputs": [
    {
     "name": "stdout",
     "output_type": "stream",
     "text": [
      "GSSMGSDEQ____________AELASKSEEERKE____________LEDLQKNLSDEQRRE____________ASKSEEERKEIKLRVIA____________LSDEQRRELEEKIKFKLAELAS____________VIAYVLVQLEDLQK___\n",
      "GSSMGSDEQRRELEEKIKFKLAELASKSEEERKEIKLRVIAYVLVQLEDLQKNLSDEQRRELEEKIKFKLAELASKSEEERKEIKLRVIAYVLVQLEDLQKNLSDEQRRELEEKIKFKLAELASKSEEERKEIKLRVIAYVLVQLEDLQKNLS\n",
      "GSSMGSDEQRRELEEKIKFKLAELASKSEEERKEIKLRVIAYVLVQLEDLQKLLSDEQRRELEEKIKFKLAELASKSEEERKEIKLRVIAYVLVQLEDLQKLLSDEQRRELEEKIKFKLAELASKSEEERKEIKLRVIAYVLVQLEDLQKLLS\n",
      "Sequence Length: 153\n",
      "Number of Identical Characters: 150\n",
      "Number of Differences: 3\n",
      "Percentage Similarity: 98.04%\n",
      "Percentage Difference: 1.96%\n"
     ]
    }
   ],
   "source": [
    "masked_seq = mask_sequence(base_seq_7SQ3, num_to_mask=12)\n",
    "print(masked_seq)\n",
    "print(base_seq_7SQ3)\n",
    "print(esm3_seq_7sq3)\n",
    "compare_aligned_strings(base_seq_7SQ3, esm3_seq_7sq3)"
   ]
  },
  {
   "cell_type": "code",
   "execution_count": 132,
   "id": "ac23c1b4",
   "metadata": {},
   "outputs": [
    {
     "name": "stdout",
     "output_type": "stream",
     "text": [
      "GSSMASGISVEELLKLAKAAYYSGTTVEEAYKLALKLGISVEELLKLAEAAYYSGTTVEEAYKLALKLGISVEELLKLAKAAYYSGTTVEEAYKLALKLGISVEELLKLAKAAYYSGTTVEEAYKLALKLGISVEELLKLAEAAYYSGTTVEEAYKLALKLGISVEELLKLAKAAYYSGTTVEEAYKLALKLGISVEELLKLAKAAYYSGTTVEEAYKLALKLGISVEELLKLAEAAYYSGTTVEEAYKLALKLGISVEELLKLAKAAYYSGTTVEEAYKLALKLG\n",
      "GLALKLGISADAAYKLAKAAYYSGTTVEEAYKLALKLGISADAAYKLAEAAYYSGTTVEEAYKLALKLGISADAAYKLAKAAYYSGTTVEEAYKLALKLGISADAAYKLAKAAYYSGTTVEEAYKLALKLGISADAAYKLAKAAYYSGTTVEEAYKLALKLGISADAAYKLAKAAYYSGTTVEEAYKLALKLGISADAAYKLAKAAYYSGTTVEEAYKLALKLGISADAAYKLAKAAYYSGTTVEEAYKLALKLGISADAAYKLAKAAYYSGTTVEEAYKLALKLG\n",
      "GSSMA_________________SGTTVEEAYKLALKLGISV_________________EEAYKLALKLGIS_________________VEEAYKLALKLG_________________TTVEEAYKLA_________________YYSGTTVEEAYKLALKLGI_________________TVEEAYKLAL_________________YSGTTV_________________LKLAEAAYYSGTTVEE_________________LAKAAYY________________\n",
      "Sequence Length: 286\n",
      "Number of Identical Characters: 234\n",
      "Number of Differences: 52\n",
      "Percentage Similarity: 81.82%\n",
      "Percentage Difference: 18.18%\n"
     ]
    }
   ],
   "source": [
    "print(base_seq_4YXZ)\n",
    "masked_seq = mask_sequence(base_seq_4YXZ, num_to_mask=17)\n",
    "print(esm_seq_4YXZ)\n",
    "print(masked_seq)\n",
    "compare_aligned_strings(base_seq_4YXZ, esm_seq_4YXZ)\n"
   ]
  },
  {
   "cell_type": "code",
   "execution_count": 133,
   "id": "0eca586f",
   "metadata": {},
   "outputs": [],
   "source": [
    "# print(base_seq_6MSP)\n",
    "# masked_seq = mask_sequence(base_seq_6MSP)\n",
    "# print(masked_seq)\n",
    "# ESM_seq = 'MGHHHHHHENLYFQSHSTDEILERLRQLFEELHERGTEAVVEVHVNGERDEIRVRRNISKEELKKILEEIREKIERSGSSEVEVNVHEGGQTIEIHVK'\n",
    "# print(ESM_seq)"
   ]
  }
 ],
 "metadata": {
  "kernelspec": {
   "display_name": "radial_faces_env",
   "language": "python",
   "name": "python3"
  },
  "language_info": {
   "codemirror_mode": {
    "name": "ipython",
    "version": 3
   },
   "file_extension": ".py",
   "mimetype": "text/x-python",
   "name": "python",
   "nbconvert_exporter": "python",
   "pygments_lexer": "ipython3",
   "version": "3.8.20"
  }
 },
 "nbformat": 4,
 "nbformat_minor": 5
}
